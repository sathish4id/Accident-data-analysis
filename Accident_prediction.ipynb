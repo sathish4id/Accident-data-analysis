{
 "cells": [
  {
   "cell_type": "code",
   "execution_count": 1,
   "id": "79babd6d",
   "metadata": {},
   "outputs": [],
   "source": [
    "import pandas as pd\n",
    "import numpy as np\n",
    "import matplotlib.pyplot as plt\n",
    "\n",
    "from sklearn.preprocessing import LabelEncoder\n",
    "from sklearn.model_selection import train_test_split\n",
    "\n",
    "from sklearn.metrics import classification_report\n",
    "from sklearn.model_selection import GridSearchCV"
   ]
  },
  {
   "cell_type": "code",
   "execution_count": 24,
   "id": "10c82025",
   "metadata": {},
   "outputs": [],
   "source": [
    "df = pd.read_csv(\"Acc_Data_no_hotencode.csv\")"
   ]
  },
  {
   "cell_type": "code",
   "execution_count": 25,
   "id": "47fb167e",
   "metadata": {},
   "outputs": [
    {
     "data": {
      "text/plain": [
       "(635523, 9)"
      ]
     },
     "execution_count": 25,
     "metadata": {},
     "output_type": "execute_result"
    }
   ],
   "source": [
    "df.shape"
   ]
  },
  {
   "cell_type": "code",
   "execution_count": 26,
   "id": "bbf6f887",
   "metadata": {},
   "outputs": [
    {
     "data": {
      "text/html": [
       "<div>\n",
       "<style scoped>\n",
       "    .dataframe tbody tr th:only-of-type {\n",
       "        vertical-align: middle;\n",
       "    }\n",
       "\n",
       "    .dataframe tbody tr th {\n",
       "        vertical-align: top;\n",
       "    }\n",
       "\n",
       "    .dataframe thead th {\n",
       "        text-align: right;\n",
       "    }\n",
       "</style>\n",
       "<table border=\"1\" class=\"dataframe\">\n",
       "  <thead>\n",
       "    <tr style=\"text-align: right;\">\n",
       "      <th></th>\n",
       "      <th>Accident_Severity</th>\n",
       "      <th>Light_Conditions</th>\n",
       "      <th>Number_of_Casualties</th>\n",
       "      <th>Number_of_Vehicles</th>\n",
       "      <th>Road_Surface_Conditions</th>\n",
       "      <th>Road_Type</th>\n",
       "      <th>Urban_or_Rural_Area</th>\n",
       "      <th>Weather_Conditions</th>\n",
       "      <th>Vehicle_Type</th>\n",
       "    </tr>\n",
       "  </thead>\n",
       "  <tbody>\n",
       "    <tr>\n",
       "      <th>0</th>\n",
       "      <td>Serious</td>\n",
       "      <td>Darkness</td>\n",
       "      <td>1</td>\n",
       "      <td>2</td>\n",
       "      <td>Dry</td>\n",
       "      <td>Single_carriageway</td>\n",
       "      <td>Urban</td>\n",
       "      <td>Fine</td>\n",
       "      <td>Car</td>\n",
       "    </tr>\n",
       "    <tr>\n",
       "      <th>1</th>\n",
       "      <td>Serious</td>\n",
       "      <td>Daylight</td>\n",
       "      <td>1</td>\n",
       "      <td>2</td>\n",
       "      <td>Wet_or_damp</td>\n",
       "      <td>Single_carriageway</td>\n",
       "      <td>Urban</td>\n",
       "      <td>Raining</td>\n",
       "      <td>Car</td>\n",
       "    </tr>\n",
       "    <tr>\n",
       "      <th>2</th>\n",
       "      <td>Serious</td>\n",
       "      <td>Daylight</td>\n",
       "      <td>1</td>\n",
       "      <td>4</td>\n",
       "      <td>Dry</td>\n",
       "      <td>Single_carriageway</td>\n",
       "      <td>Urban</td>\n",
       "      <td>Fine</td>\n",
       "      <td>Passenger_Vehicles(Minibus_or_Bus)</td>\n",
       "    </tr>\n",
       "    <tr>\n",
       "      <th>3</th>\n",
       "      <td>Serious</td>\n",
       "      <td>Daylight</td>\n",
       "      <td>2</td>\n",
       "      <td>3</td>\n",
       "      <td>Dry</td>\n",
       "      <td>Single_carriageway</td>\n",
       "      <td>Urban</td>\n",
       "      <td>Fine</td>\n",
       "      <td>Car</td>\n",
       "    </tr>\n",
       "    <tr>\n",
       "      <th>4</th>\n",
       "      <td>Serious</td>\n",
       "      <td>Daylight</td>\n",
       "      <td>1</td>\n",
       "      <td>2</td>\n",
       "      <td>Dry</td>\n",
       "      <td>Dual_carriageway</td>\n",
       "      <td>Urban</td>\n",
       "      <td>Fine</td>\n",
       "      <td>Goods_Carrier</td>\n",
       "    </tr>\n",
       "  </tbody>\n",
       "</table>\n",
       "</div>"
      ],
      "text/plain": [
       "  Accident_Severity Light_Conditions  Number_of_Casualties  \\\n",
       "0           Serious         Darkness                     1   \n",
       "1           Serious         Daylight                     1   \n",
       "2           Serious         Daylight                     1   \n",
       "3           Serious         Daylight                     2   \n",
       "4           Serious         Daylight                     1   \n",
       "\n",
       "   Number_of_Vehicles Road_Surface_Conditions           Road_Type  \\\n",
       "0                   2                     Dry  Single_carriageway   \n",
       "1                   2             Wet_or_damp  Single_carriageway   \n",
       "2                   4                     Dry  Single_carriageway   \n",
       "3                   3                     Dry  Single_carriageway   \n",
       "4                   2                     Dry    Dual_carriageway   \n",
       "\n",
       "  Urban_or_Rural_Area Weather_Conditions                        Vehicle_Type  \n",
       "0               Urban               Fine                                 Car  \n",
       "1               Urban            Raining                                 Car  \n",
       "2               Urban               Fine  Passenger_Vehicles(Minibus_or_Bus)  \n",
       "3               Urban               Fine                                 Car  \n",
       "4               Urban               Fine                       Goods_Carrier  "
      ]
     },
     "execution_count": 26,
     "metadata": {},
     "output_type": "execute_result"
    }
   ],
   "source": [
    "df.head()"
   ]
  },
  {
   "cell_type": "code",
   "execution_count": 27,
   "id": "bb0ff468-c49a-4f4e-93fc-3e8f419fe9a6",
   "metadata": {},
   "outputs": [
    {
     "data": {
      "text/plain": [
       "Accident_Severity\n",
       "Slight     541222\n",
       "Serious     94301\n",
       "Name: count, dtype: int64"
      ]
     },
     "execution_count": 27,
     "metadata": {},
     "output_type": "execute_result"
    }
   ],
   "source": [
    "df['Accident_Severity'].value_counts()"
   ]
  },
  {
   "cell_type": "markdown",
   "id": "5246b70d-fcdd-4e86-ae09-af83339b23ae",
   "metadata": {},
   "source": [
    "\n",
    "Label Encoding"
   ]
  },
  {
   "cell_type": "code",
   "execution_count": 28,
   "id": "358edaa9",
   "metadata": {},
   "outputs": [
    {
     "data": {
      "text/plain": [
       "{'Accident_Severity': 2,\n",
       " 'Light_Conditions': 2,\n",
       " 'Road_Surface_Conditions': 3,\n",
       " 'Road_Type': 4,\n",
       " 'Urban_or_Rural_Area': 2,\n",
       " 'Weather_Conditions': 3,\n",
       " 'Vehicle_Type': 5}"
      ]
     },
     "execution_count": 28,
     "metadata": {},
     "output_type": "execute_result"
    }
   ],
   "source": [
    "{column: len(df[column].unique()) for column in df.columns if df.dtypes[column] == 'object'}"
   ]
  },
  {
   "cell_type": "code",
   "execution_count": 29,
   "id": "408770b7-280e-443a-822f-56f3c5a550d3",
   "metadata": {},
   "outputs": [],
   "source": [
    "le_Light_Conditions = LabelEncoder()\n",
    "le_Road_Surface_Conditions = LabelEncoder()\n",
    "le_Road_Type = LabelEncoder()\n",
    "le_Urban_or_Rural_Area = LabelEncoder()\n",
    "le_Weather_Conditions = LabelEncoder()\n",
    "le_Vehicle_Type = LabelEncoder()"
   ]
  },
  {
   "cell_type": "code",
   "execution_count": 30,
   "id": "8b1412e9-5e1c-4071-a551-a830d42f6660",
   "metadata": {},
   "outputs": [
    {
     "data": {
      "text/plain": [
       "array([0, 1])"
      ]
     },
     "execution_count": 30,
     "metadata": {},
     "output_type": "execute_result"
    }
   ],
   "source": [
    "df['Light_Conditions'] = le_Light_Conditions.fit_transform(df['Light_Conditions'])\n",
    "df[\"Light_Conditions\"].unique()"
   ]
  },
  {
   "cell_type": "code",
   "execution_count": 31,
   "id": "aebbdfd9-16a9-4ea0-8783-08334ed1b39a",
   "metadata": {},
   "outputs": [
    {
     "data": {
      "text/plain": [
       "array([0, 2, 1])"
      ]
     },
     "execution_count": 31,
     "metadata": {},
     "output_type": "execute_result"
    }
   ],
   "source": [
    "df['Road_Surface_Conditions'] = le_Road_Surface_Conditions.fit_transform(df['Road_Surface_Conditions'])\n",
    "df[\"Road_Surface_Conditions\"].unique()"
   ]
  },
  {
   "cell_type": "code",
   "execution_count": 32,
   "id": "942e7fbb-4dce-458d-9bc6-b55b66e668df",
   "metadata": {},
   "outputs": [
    {
     "data": {
      "text/plain": [
       "array([3, 0, 1, 2])"
      ]
     },
     "execution_count": 32,
     "metadata": {},
     "output_type": "execute_result"
    }
   ],
   "source": [
    "df['Road_Type'] = le_Road_Type.fit_transform(df['Road_Type'])\n",
    "df[\"Road_Type\"].unique()"
   ]
  },
  {
   "cell_type": "code",
   "execution_count": 33,
   "id": "b37a2bf4-90b2-4d92-a2e1-efd93aac77d0",
   "metadata": {},
   "outputs": [
    {
     "data": {
      "text/plain": [
       "array([1, 0])"
      ]
     },
     "execution_count": 33,
     "metadata": {},
     "output_type": "execute_result"
    }
   ],
   "source": [
    "df['Urban_or_Rural_Area'] = le_Urban_or_Rural_Area.fit_transform(df['Urban_or_Rural_Area'])\n",
    "df[\"Urban_or_Rural_Area\"].unique()"
   ]
  },
  {
   "cell_type": "code",
   "execution_count": 34,
   "id": "4ffd9a78-d81b-4146-a9d1-c29a0e51d2d5",
   "metadata": {},
   "outputs": [
    {
     "data": {
      "text/plain": [
       "array([0, 1, 2])"
      ]
     },
     "execution_count": 34,
     "metadata": {},
     "output_type": "execute_result"
    }
   ],
   "source": [
    "df['Weather_Conditions'] = le_Weather_Conditions.fit_transform(df['Weather_Conditions'])\n",
    "df[\"Weather_Conditions\"].unique()"
   ]
  },
  {
   "cell_type": "code",
   "execution_count": 35,
   "id": "454a2e2d-6ce3-4ffa-9487-cf8f0609c74d",
   "metadata": {},
   "outputs": [
    {
     "data": {
      "text/plain": [
       "array([1, 4, 2, 3, 0])"
      ]
     },
     "execution_count": 35,
     "metadata": {},
     "output_type": "execute_result"
    }
   ],
   "source": [
    "df['Vehicle_Type'] = le_Vehicle_Type.fit_transform(df['Vehicle_Type'])\n",
    "df[\"Vehicle_Type\"].unique()"
   ]
  },
  {
   "cell_type": "code",
   "execution_count": 36,
   "id": "4e9f4e71",
   "metadata": {},
   "outputs": [
    {
     "data": {
      "text/html": [
       "<div>\n",
       "<style scoped>\n",
       "    .dataframe tbody tr th:only-of-type {\n",
       "        vertical-align: middle;\n",
       "    }\n",
       "\n",
       "    .dataframe tbody tr th {\n",
       "        vertical-align: top;\n",
       "    }\n",
       "\n",
       "    .dataframe thead th {\n",
       "        text-align: right;\n",
       "    }\n",
       "</style>\n",
       "<table border=\"1\" class=\"dataframe\">\n",
       "  <thead>\n",
       "    <tr style=\"text-align: right;\">\n",
       "      <th></th>\n",
       "      <th>Accident_Severity</th>\n",
       "      <th>Light_Conditions</th>\n",
       "      <th>Number_of_Casualties</th>\n",
       "      <th>Number_of_Vehicles</th>\n",
       "      <th>Road_Surface_Conditions</th>\n",
       "      <th>Road_Type</th>\n",
       "      <th>Urban_or_Rural_Area</th>\n",
       "      <th>Weather_Conditions</th>\n",
       "      <th>Vehicle_Type</th>\n",
       "    </tr>\n",
       "  </thead>\n",
       "  <tbody>\n",
       "    <tr>\n",
       "      <th>0</th>\n",
       "      <td>Serious</td>\n",
       "      <td>0</td>\n",
       "      <td>1</td>\n",
       "      <td>2</td>\n",
       "      <td>0</td>\n",
       "      <td>3</td>\n",
       "      <td>1</td>\n",
       "      <td>0</td>\n",
       "      <td>1</td>\n",
       "    </tr>\n",
       "    <tr>\n",
       "      <th>1</th>\n",
       "      <td>Serious</td>\n",
       "      <td>1</td>\n",
       "      <td>1</td>\n",
       "      <td>2</td>\n",
       "      <td>2</td>\n",
       "      <td>3</td>\n",
       "      <td>1</td>\n",
       "      <td>1</td>\n",
       "      <td>1</td>\n",
       "    </tr>\n",
       "    <tr>\n",
       "      <th>2</th>\n",
       "      <td>Serious</td>\n",
       "      <td>1</td>\n",
       "      <td>1</td>\n",
       "      <td>4</td>\n",
       "      <td>0</td>\n",
       "      <td>3</td>\n",
       "      <td>1</td>\n",
       "      <td>0</td>\n",
       "      <td>4</td>\n",
       "    </tr>\n",
       "    <tr>\n",
       "      <th>3</th>\n",
       "      <td>Serious</td>\n",
       "      <td>1</td>\n",
       "      <td>2</td>\n",
       "      <td>3</td>\n",
       "      <td>0</td>\n",
       "      <td>3</td>\n",
       "      <td>1</td>\n",
       "      <td>0</td>\n",
       "      <td>1</td>\n",
       "    </tr>\n",
       "    <tr>\n",
       "      <th>4</th>\n",
       "      <td>Serious</td>\n",
       "      <td>1</td>\n",
       "      <td>1</td>\n",
       "      <td>2</td>\n",
       "      <td>0</td>\n",
       "      <td>0</td>\n",
       "      <td>1</td>\n",
       "      <td>0</td>\n",
       "      <td>2</td>\n",
       "    </tr>\n",
       "  </tbody>\n",
       "</table>\n",
       "</div>"
      ],
      "text/plain": [
       "  Accident_Severity  Light_Conditions  Number_of_Casualties  \\\n",
       "0           Serious                 0                     1   \n",
       "1           Serious                 1                     1   \n",
       "2           Serious                 1                     1   \n",
       "3           Serious                 1                     2   \n",
       "4           Serious                 1                     1   \n",
       "\n",
       "   Number_of_Vehicles  Road_Surface_Conditions  Road_Type  \\\n",
       "0                   2                        0          3   \n",
       "1                   2                        2          3   \n",
       "2                   4                        0          3   \n",
       "3                   3                        0          3   \n",
       "4                   2                        0          0   \n",
       "\n",
       "   Urban_or_Rural_Area  Weather_Conditions  Vehicle_Type  \n",
       "0                    1                   0             1  \n",
       "1                    1                   1             1  \n",
       "2                    1                   0             4  \n",
       "3                    1                   0             1  \n",
       "4                    1                   0             2  "
      ]
     },
     "execution_count": 36,
     "metadata": {},
     "output_type": "execute_result"
    }
   ],
   "source": [
    "df.head()"
   ]
  },
  {
   "cell_type": "markdown",
   "id": "a382f82d-9b22-4d48-9551-f728627f8f6c",
   "metadata": {},
   "source": [
    "Test/Train split of data as 30/70 respectively"
   ]
  },
  {
   "cell_type": "code",
   "execution_count": 37,
   "id": "126be59d",
   "metadata": {},
   "outputs": [],
   "source": [
    "target = 'Accident_Severity'"
   ]
  },
  {
   "cell_type": "code",
   "execution_count": 58,
   "id": "1ca7de96",
   "metadata": {},
   "outputs": [],
   "source": [
    "y = df[target].copy()\n",
    "X = df.drop(columns=[target]).copy()"
   ]
  },
  {
   "cell_type": "code",
   "execution_count": 39,
   "id": "f21a91c2",
   "metadata": {},
   "outputs": [],
   "source": [
    "X_train, X_test, y_train, y_test = train_test_split(X, y, test_size=0.3, random_state=100)"
   ]
  },
  {
   "cell_type": "markdown",
   "id": "0068bbb7",
   "metadata": {},
   "source": [
    "Sampling of the train datasets"
   ]
  },
  {
   "cell_type": "code",
   "execution_count": 40,
   "id": "9186b375",
   "metadata": {},
   "outputs": [],
   "source": [
    "from imblearn.over_sampling import RandomOverSampler\n",
    "from imblearn.under_sampling import RandomUnderSampler\n",
    "\n",
    "under = RandomUnderSampler(sampling_strategy=0.5)\n",
    "X_train, y_train= under.fit_resample(X_train, y_train)"
   ]
  },
  {
   "cell_type": "code",
   "execution_count": 41,
   "id": "31219204-e94e-4fb1-8fde-3179625fa4ee",
   "metadata": {},
   "outputs": [],
   "source": [
    "over = RandomOverSampler(sampling_strategy=0.8)\n",
    "X_train, y_train= over.fit_resample(X_train, y_train)"
   ]
  },
  {
   "cell_type": "code",
   "execution_count": 42,
   "id": "ccc8b478",
   "metadata": {},
   "outputs": [
    {
     "data": {
      "text/plain": [
       "{'Serious': 105969, 'Slight': 132462}"
      ]
     },
     "execution_count": 42,
     "metadata": {},
     "output_type": "execute_result"
    }
   ],
   "source": [
    "unique, count = np.unique(y_train, return_counts=True)\n",
    "y_train_value_count = { k:v for (k,v) in zip(unique, count)}\n",
    "y_train_value_count"
   ]
  },
  {
   "cell_type": "markdown",
   "id": "2516ad78-2d50-4df4-b550-afc57d26b69a",
   "metadata": {},
   "source": [
    "Logistic Regression Classifier"
   ]
  },
  {
   "cell_type": "code",
   "execution_count": 43,
   "id": "7c06740a-8d4a-4002-80ae-eef827adbf71",
   "metadata": {},
   "outputs": [
    {
     "data": {
      "text/plain": [
       "'\\n#Scaling\\nfrom sklearn.preprocessing import StandardScaler\\nsc = StandardScaler()\\nX_train = sc.fit_transform(X_train)\\nX_test= sc.transform(X_test)\\n'"
      ]
     },
     "execution_count": 43,
     "metadata": {},
     "output_type": "execute_result"
    }
   ],
   "source": [
    "'''\n",
    "#Scaling\n",
    "from sklearn.preprocessing import StandardScaler\n",
    "sc = StandardScaler()\n",
    "X_train = sc.fit_transform(X_train)\n",
    "X_test= sc.transform(X_test)\n",
    "'''"
   ]
  },
  {
   "cell_type": "code",
   "execution_count": 44,
   "id": "bd04e11d-3ab2-4371-bbaf-3792d1891b18",
   "metadata": {},
   "outputs": [],
   "source": [
    "from sklearn.linear_model import LogisticRegression\n",
    "from sklearn.pipeline import make_pipeline\n",
    "import warnings\n",
    "from sklearn.model_selection import GridSearchCV\n",
    "from sklearn.metrics import classification_report"
   ]
  },
  {
   "cell_type": "code",
   "execution_count": 45,
   "id": "07ca6e1b-4d63-48a9-85e8-5ee989f2b04e",
   "metadata": {},
   "outputs": [],
   "source": [
    "clf = LogisticRegression(solver='saga').fit(X_train, y_train)"
   ]
  },
  {
   "cell_type": "code",
   "execution_count": 46,
   "id": "639bd62e-a886-4f5d-b81c-93687167cf32",
   "metadata": {},
   "outputs": [],
   "source": [
    "Y_Test_Pred = clf.predict(X_test)"
   ]
  },
  {
   "cell_type": "code",
   "execution_count": 48,
   "id": "55b9b2b5-10cb-4dfc-8b43-1ff236e0d0e0",
   "metadata": {},
   "outputs": [
    {
     "name": "stdout",
     "output_type": "stream",
     "text": [
      "              precision    recall  f1-score   support\n",
      "\n",
      "     Serious       0.36      0.23      0.28     44826\n",
      "      Slight       0.79      0.88      0.83    145831\n",
      "\n",
      "    accuracy                           0.72    190657\n",
      "   macro avg       0.58      0.55      0.56    190657\n",
      "weighted avg       0.69      0.72      0.70    190657\n",
      "\n"
     ]
    }
   ],
   "source": [
    "print(classification_report(Y_Test_Pred, y_test))"
   ]
  },
  {
   "cell_type": "code",
   "execution_count": 36,
   "id": "fa5f2a70-16fb-404f-8fc3-ce7c866dad61",
   "metadata": {},
   "outputs": [],
   "source": [
    "# Create a pipeline with scaler and logistic regression\n",
    "pipe = make_pipeline(StandardScaler(), LogisticRegression(max_iter=1000, solver='saga', tol=0.1))\n",
    "\n",
    "# Create a parameter grid\n",
    "param_grid = {\n",
    "    'logisticregression__C': [0.1, 0.5, 1, 10, 100],\n",
    "    'logisticregression__penalty': ['l1', 'l2']\n",
    "}\n",
    "\n",
    "# Create GridSearchCV object\n",
    "grid_search = GridSearchCV(pipe, param_grid, cv=5)\n",
    "\n",
    "# Fit the model\n",
    "grid_result = grid_search.fit(X_train, y_train)"
   ]
  },
  {
   "cell_type": "code",
   "execution_count": 37,
   "id": "d0bd4aca-fc7a-4b4a-96d2-6eb981a71fd7",
   "metadata": {},
   "outputs": [
    {
     "name": "stdout",
     "output_type": "stream",
     "text": [
      "Best Parameters: {'logisticregression__C': 1, 'logisticregression__penalty': 'l1'}\n",
      "Best Score: 0.6005382599615288\n"
     ]
    }
   ],
   "source": [
    "# Print best parameters and best score\n",
    "print(\"Best Parameters:\", grid_search.best_params_)\n",
    "print(\"Best Score:\", grid_search.best_score_)"
   ]
  },
  {
   "cell_type": "code",
   "execution_count": 50,
   "id": "0acc8190-1b1d-412a-9e8b-43181c3a8a51",
   "metadata": {},
   "outputs": [],
   "source": [
    "grid_opt = LogisticRegression(C=0.5, class_weight=None, dual=False,\n",
    "          fit_intercept=True, intercept_scaling=1, max_iter=100,\n",
    "          n_jobs=None, penalty='l2', random_state=None,\n",
    "          tol=0.1, verbose=0, warm_start=False).fit(X_train, y_train)"
   ]
  },
  {
   "cell_type": "code",
   "execution_count": 51,
   "id": "0aa26011-5185-4f8b-9048-1a204a655cf9",
   "metadata": {},
   "outputs": [],
   "source": [
    "Y_Test_Pred = grid_opt.predict(X_test)"
   ]
  },
  {
   "cell_type": "code",
   "execution_count": 52,
   "id": "ff4d9f60-809a-4c02-aa7c-ac1f81122a35",
   "metadata": {},
   "outputs": [
    {
     "name": "stdout",
     "output_type": "stream",
     "text": [
      "              precision    recall  f1-score   support\n",
      "\n",
      "     Serious       0.36      0.23      0.28     44826\n",
      "      Slight       0.79      0.88      0.83    145831\n",
      "\n",
      "    accuracy                           0.72    190657\n",
      "   macro avg       0.58      0.55      0.56    190657\n",
      "weighted avg       0.69      0.72      0.70    190657\n",
      "\n"
     ]
    }
   ],
   "source": [
    "print(classification_report(Y_Test_Pred, y_test))"
   ]
  },
  {
   "cell_type": "markdown",
   "id": "0fb151ab-0d85-43e8-b02e-be889bc937b7",
   "metadata": {},
   "source": [
    "Model testing and saving"
   ]
  },
  {
   "cell_type": "code",
   "execution_count": 61,
   "id": "b3c7eea4-b94e-48e2-91f1-efacd18c343c",
   "metadata": {},
   "outputs": [
    {
     "data": {
      "text/html": [
       "<div>\n",
       "<style scoped>\n",
       "    .dataframe tbody tr th:only-of-type {\n",
       "        vertical-align: middle;\n",
       "    }\n",
       "\n",
       "    .dataframe tbody tr th {\n",
       "        vertical-align: top;\n",
       "    }\n",
       "\n",
       "    .dataframe thead th {\n",
       "        text-align: right;\n",
       "    }\n",
       "</style>\n",
       "<table border=\"1\" class=\"dataframe\">\n",
       "  <thead>\n",
       "    <tr style=\"text-align: right;\">\n",
       "      <th></th>\n",
       "      <th>Light_Conditions</th>\n",
       "      <th>Number_of_Casualties</th>\n",
       "      <th>Number_of_Vehicles</th>\n",
       "      <th>Road_Surface_Conditions</th>\n",
       "      <th>Road_Type</th>\n",
       "      <th>Urban_or_Rural_Area</th>\n",
       "      <th>Weather_Conditions</th>\n",
       "      <th>Vehicle_Type</th>\n",
       "    </tr>\n",
       "  </thead>\n",
       "  <tbody>\n",
       "    <tr>\n",
       "      <th>0</th>\n",
       "      <td>0</td>\n",
       "      <td>1</td>\n",
       "      <td>2</td>\n",
       "      <td>0</td>\n",
       "      <td>3</td>\n",
       "      <td>1</td>\n",
       "      <td>0</td>\n",
       "      <td>1</td>\n",
       "    </tr>\n",
       "    <tr>\n",
       "      <th>1</th>\n",
       "      <td>1</td>\n",
       "      <td>1</td>\n",
       "      <td>2</td>\n",
       "      <td>2</td>\n",
       "      <td>3</td>\n",
       "      <td>1</td>\n",
       "      <td>1</td>\n",
       "      <td>1</td>\n",
       "    </tr>\n",
       "    <tr>\n",
       "      <th>2</th>\n",
       "      <td>1</td>\n",
       "      <td>1</td>\n",
       "      <td>4</td>\n",
       "      <td>0</td>\n",
       "      <td>3</td>\n",
       "      <td>1</td>\n",
       "      <td>0</td>\n",
       "      <td>4</td>\n",
       "    </tr>\n",
       "    <tr>\n",
       "      <th>3</th>\n",
       "      <td>1</td>\n",
       "      <td>2</td>\n",
       "      <td>3</td>\n",
       "      <td>0</td>\n",
       "      <td>3</td>\n",
       "      <td>1</td>\n",
       "      <td>0</td>\n",
       "      <td>1</td>\n",
       "    </tr>\n",
       "    <tr>\n",
       "      <th>4</th>\n",
       "      <td>1</td>\n",
       "      <td>1</td>\n",
       "      <td>2</td>\n",
       "      <td>0</td>\n",
       "      <td>0</td>\n",
       "      <td>1</td>\n",
       "      <td>0</td>\n",
       "      <td>2</td>\n",
       "    </tr>\n",
       "    <tr>\n",
       "      <th>...</th>\n",
       "      <td>...</td>\n",
       "      <td>...</td>\n",
       "      <td>...</td>\n",
       "      <td>...</td>\n",
       "      <td>...</td>\n",
       "      <td>...</td>\n",
       "      <td>...</td>\n",
       "      <td>...</td>\n",
       "    </tr>\n",
       "    <tr>\n",
       "      <th>635518</th>\n",
       "      <td>1</td>\n",
       "      <td>2</td>\n",
       "      <td>1</td>\n",
       "      <td>0</td>\n",
       "      <td>3</td>\n",
       "      <td>0</td>\n",
       "      <td>0</td>\n",
       "      <td>1</td>\n",
       "    </tr>\n",
       "    <tr>\n",
       "      <th>635519</th>\n",
       "      <td>0</td>\n",
       "      <td>1</td>\n",
       "      <td>1</td>\n",
       "      <td>1</td>\n",
       "      <td>3</td>\n",
       "      <td>0</td>\n",
       "      <td>0</td>\n",
       "      <td>1</td>\n",
       "    </tr>\n",
       "    <tr>\n",
       "      <th>635520</th>\n",
       "      <td>1</td>\n",
       "      <td>1</td>\n",
       "      <td>3</td>\n",
       "      <td>1</td>\n",
       "      <td>3</td>\n",
       "      <td>0</td>\n",
       "      <td>0</td>\n",
       "      <td>1</td>\n",
       "    </tr>\n",
       "    <tr>\n",
       "      <th>635521</th>\n",
       "      <td>0</td>\n",
       "      <td>1</td>\n",
       "      <td>2</td>\n",
       "      <td>2</td>\n",
       "      <td>3</td>\n",
       "      <td>0</td>\n",
       "      <td>0</td>\n",
       "      <td>3</td>\n",
       "    </tr>\n",
       "    <tr>\n",
       "      <th>635522</th>\n",
       "      <td>1</td>\n",
       "      <td>1</td>\n",
       "      <td>1</td>\n",
       "      <td>2</td>\n",
       "      <td>0</td>\n",
       "      <td>0</td>\n",
       "      <td>2</td>\n",
       "      <td>1</td>\n",
       "    </tr>\n",
       "  </tbody>\n",
       "</table>\n",
       "<p>635523 rows × 8 columns</p>\n",
       "</div>"
      ],
      "text/plain": [
       "        Light_Conditions  Number_of_Casualties  Number_of_Vehicles  \\\n",
       "0                      0                     1                   2   \n",
       "1                      1                     1                   2   \n",
       "2                      1                     1                   4   \n",
       "3                      1                     2                   3   \n",
       "4                      1                     1                   2   \n",
       "...                  ...                   ...                 ...   \n",
       "635518                 1                     2                   1   \n",
       "635519                 0                     1                   1   \n",
       "635520                 1                     1                   3   \n",
       "635521                 0                     1                   2   \n",
       "635522                 1                     1                   1   \n",
       "\n",
       "        Road_Surface_Conditions  Road_Type  Urban_or_Rural_Area  \\\n",
       "0                             0          3                    1   \n",
       "1                             2          3                    1   \n",
       "2                             0          3                    1   \n",
       "3                             0          3                    1   \n",
       "4                             0          0                    1   \n",
       "...                         ...        ...                  ...   \n",
       "635518                        0          3                    0   \n",
       "635519                        1          3                    0   \n",
       "635520                        1          3                    0   \n",
       "635521                        2          3                    0   \n",
       "635522                        2          0                    0   \n",
       "\n",
       "        Weather_Conditions  Vehicle_Type  \n",
       "0                        0             1  \n",
       "1                        1             1  \n",
       "2                        0             4  \n",
       "3                        0             1  \n",
       "4                        0             2  \n",
       "...                    ...           ...  \n",
       "635518                   0             1  \n",
       "635519                   0             1  \n",
       "635520                   0             1  \n",
       "635521                   0             3  \n",
       "635522                   2             1  \n",
       "\n",
       "[635523 rows x 8 columns]"
      ]
     },
     "execution_count": 61,
     "metadata": {},
     "output_type": "execute_result"
    }
   ],
   "source": [
    "X"
   ]
  },
  {
   "cell_type": "code",
   "execution_count": 62,
   "id": "1c89a0d7-8187-4588-9a9d-e740ba0fb946",
   "metadata": {},
   "outputs": [],
   "source": [
    "X = np.array([['Darkness',7,10,'Frost_or_Snow','Dual_carriageway','Rural','Raining','Car']])"
   ]
  },
  {
   "cell_type": "code",
   "execution_count": 63,
   "id": "120a093b-57d1-4bbb-ad4f-7b527f801eb5",
   "metadata": {},
   "outputs": [
    {
     "data": {
      "text/plain": [
       "array([[0., 0., 0., 0., 0., 0., 0., 0.]])"
      ]
     },
     "execution_count": 63,
     "metadata": {},
     "output_type": "execute_result"
    }
   ],
   "source": [
    "\n",
    "X[:,0] = le_Light_Conditions.transform(X[:,0])\n",
    "X[:,1] = X[:,1]\n",
    "X[:,2] = X[:,2]\n",
    "X[:,3] = le_Road_Surface_Conditions.transform(X[:,3])\n",
    "X[:,4] = le_Road_Type.transform(X[:,4])\n",
    "X[:,5] = le_Urban_or_Rural_Area.transform(X[:,5])\n",
    "X[:,6] = le_Weather_Conditions.transform(X[:,6])\n",
    "X[:,7] = le_Vehicle_Type.transform(X[:,7])\n",
    "\n",
    "X = X.astype(float)\n",
    "X = sc.fit_transform(X)\n",
    "X\n"
   ]
  },
  {
   "cell_type": "code",
   "execution_count": 64,
   "id": "3c856e9a-733e-439f-836f-c3fb5e4e5b3a",
   "metadata": {},
   "outputs": [
    {
     "name": "stderr",
     "output_type": "stream",
     "text": [
      "C:\\Users\\sathish\\anaconda3\\Lib\\site-packages\\sklearn\\base.py:439: UserWarning: X does not have valid feature names, but LogisticRegression was fitted with feature names\n",
      "  warnings.warn(\n"
     ]
    }
   ],
   "source": [
    "y_pred = clf.predict(X)"
   ]
  },
  {
   "cell_type": "code",
   "execution_count": 65,
   "id": "a562bbbb-5b1b-4d91-9d64-265e7ef37fd0",
   "metadata": {},
   "outputs": [
    {
     "name": "stderr",
     "output_type": "stream",
     "text": [
      "C:\\Users\\sathish\\anaconda3\\Lib\\site-packages\\sklearn\\base.py:439: UserWarning: X does not have valid feature names, but LogisticRegression was fitted with feature names\n",
      "  warnings.warn(\n"
     ]
    },
    {
     "data": {
      "text/plain": [
       "array(['Serious'], dtype=object)"
      ]
     },
     "execution_count": 65,
     "metadata": {},
     "output_type": "execute_result"
    }
   ],
   "source": [
    "y_pred = grid_opt.predict(X)\n",
    "y_pred"
   ]
  },
  {
   "cell_type": "code",
   "execution_count": 66,
   "id": "b82c1cc3-a264-46ea-80ff-8c233f272045",
   "metadata": {},
   "outputs": [],
   "source": [
    "import pickle"
   ]
  },
  {
   "cell_type": "code",
   "execution_count": 67,
   "id": "4eac1499-b0af-4edc-8c6f-72882a4995cd",
   "metadata": {},
   "outputs": [],
   "source": [
    "data = {\"model\": grid_opt, \"le_Light_Conditions\": le_Light_Conditions, \"le_Road_Surface_Conditions\": le_Road_Surface_Conditions, \"le_Road_Type\": le_Road_Type, \"le_Urban_or_Rural_Area\": le_Urban_or_Rural_Area, \"le_Weather_Conditions\": le_Weather_Conditions, \"le_Vehicle_Type\": le_Vehicle_Type}\n",
    "with open('saved_steps.pkl', 'wb') as file:\n",
    "    pickle.dump(data, file)"
   ]
  },
  {
   "cell_type": "code",
   "execution_count": 68,
   "id": "08b9bb92-237b-451d-879a-53989fc68c17",
   "metadata": {},
   "outputs": [],
   "source": [
    "with open('saved_steps.pkl', 'rb') as file:\n",
    "    data = pickle.load(file)\n",
    "\n",
    "model_loaded = data[\"model\"]\n",
    "le_Light_Conditions = data[\"le_Light_Conditions\"]\n",
    "le_Road_Surface_Conditions = data[\"le_Road_Surface_Conditions\"]\n",
    "le_Road_Type = data[\"le_Road_Type\"]\n",
    "le_Urban_or_Rural_Area = data[\"le_Urban_or_Rural_Area\"]\n",
    "le_Weather_Conditions = data[\"le_Weather_Conditions\"]\n",
    "le_Vehicle_Type = data[\"le_Vehicle_Type\"]\n"
   ]
  },
  {
   "cell_type": "code",
   "execution_count": 69,
   "id": "980baeb9-31f1-42c6-ac92-c9adce7c17eb",
   "metadata": {},
   "outputs": [
    {
     "name": "stderr",
     "output_type": "stream",
     "text": [
      "C:\\Users\\sathish\\anaconda3\\Lib\\site-packages\\sklearn\\base.py:439: UserWarning: X does not have valid feature names, but LogisticRegression was fitted with feature names\n",
      "  warnings.warn(\n"
     ]
    },
    {
     "data": {
      "text/plain": [
       "array(['Serious'], dtype=object)"
      ]
     },
     "execution_count": 69,
     "metadata": {},
     "output_type": "execute_result"
    }
   ],
   "source": [
    "y_pred = model_loaded.predict(X)\n",
    "y_pred"
   ]
  }
 ],
 "metadata": {
  "kernelspec": {
   "display_name": "ml",
   "language": "python",
   "name": "ml"
  },
  "language_info": {
   "codemirror_mode": {
    "name": "ipython",
    "version": 3
   },
   "file_extension": ".py",
   "mimetype": "text/x-python",
   "name": "python",
   "nbconvert_exporter": "python",
   "pygments_lexer": "ipython3",
   "version": "3.11.5"
  }
 },
 "nbformat": 4,
 "nbformat_minor": 5
}
